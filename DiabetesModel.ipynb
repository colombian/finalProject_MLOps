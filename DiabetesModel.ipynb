{
 "cells": [
  {
   "cell_type": "code",
   "execution_count": 21,
   "id": "7c941d42",
   "metadata": {},
   "outputs": [],
   "source": [
    "import pandas as pd\n",
    "import numpy as np\n",
    "import matplotlib.pyplot as plt\n",
    "import seaborn as sns\n",
    "sns.set_style(\"whitegrid\")\n",
    "\n",
    "%matplotlib inline\n",
    "\n",
    "from sklearn.model_selection import train_test_split \n",
    "from sklearn.ensemble import RandomForestClassifier \n",
    "from sklearn.metrics import accuracy_score \n",
    "from sklearn.preprocessing import StandardScaler, MinMaxScaler"
   ]
  },
  {
   "cell_type": "markdown",
   "id": "dd678694",
   "metadata": {},
   "source": [
    "## Introduction\n",
    "\n",
    "This Dataset describes the Medical records for PIMA Indians and whether each patient will have Diabetes onset within five years. The Pima are a group of Native Americans living in Arizona. A genetic predisposition allowed this group to normally survive a low carbohydrate diet for years. In recent years, due to a sudden shift from traditional agricultural crops to processed foods, coupled with a decline in physical activity, they have developed the highest prevalence of type 2 diabetes and, for this reason, have been the subject of many studies.\n",
    "\n",
    "It’s a common 2 class classification problem like classifying mail into spam and ham based on the contents of the email.  Obviously, the attributes there would be strings and not numbers like this dataset, therefore the way in which we process at least some of the features will be different.\n",
    "\n",
    "### Assumptions\n",
    "\n",
    "This is enough data to split and reliably predict if the patient has diabetes, the dataset has only 786 data points.\n",
    "Just these attributes are enough to diagnose the ailment.\n",
    "\n",
    "### Data Overview\n",
    "\n",
    "Let’s pull in the data and see what's in it, here is what we already know about this data.  The dataset contains the following columns:\n",
    "\n",
    "* Pregnancies\t\t\t- Number of times pregnant\n",
    "* Glucose\t\t\t\t- Plasma glucose concentration 2 hours in an oral glucose tolerance test\n",
    "* Blood Pressure\t\t\t- Diastolic blood pressure (mm Hg)\n",
    "* Skin Thickness\t\t\t- Triceps skin fold thickness (mm)\n",
    "* Insulin\t\t\t\t- 2-Hour serum insulin (mu U/ml)\n",
    "* BMI\t\t\t\t- Body mass index (weight in kg/(height in m)^2)\n",
    "* Diabetes Pedigree Function\t- Diabetes pedigree function\n",
    "* Age\t\t\t\t- Age (years)\n",
    "* Outcome\t\t\t- Class value (0 or 1), 1 is interpreted as \"tested positive for diabetes"
   ]
  },
  {
   "cell_type": "code",
   "execution_count": 22,
   "id": "c862038a",
   "metadata": {},
   "outputs": [
    {
     "data": {
      "text/html": [
       "<div>\n",
       "<style scoped>\n",
       "    .dataframe tbody tr th:only-of-type {\n",
       "        vertical-align: middle;\n",
       "    }\n",
       "\n",
       "    .dataframe tbody tr th {\n",
       "        vertical-align: top;\n",
       "    }\n",
       "\n",
       "    .dataframe thead th {\n",
       "        text-align: right;\n",
       "    }\n",
       "</style>\n",
       "<table border=\"1\" class=\"dataframe\">\n",
       "  <thead>\n",
       "    <tr style=\"text-align: right;\">\n",
       "      <th></th>\n",
       "      <th>Pregnancies</th>\n",
       "      <th>Glucose</th>\n",
       "      <th>BloodPressure</th>\n",
       "      <th>SkinThickness</th>\n",
       "      <th>Insulin</th>\n",
       "      <th>BMI</th>\n",
       "      <th>DiabetesPedigreeFunction</th>\n",
       "      <th>Age</th>\n",
       "      <th>Outcome</th>\n",
       "    </tr>\n",
       "  </thead>\n",
       "  <tbody>\n",
       "    <tr>\n",
       "      <th>count</th>\n",
       "      <td>768.000000</td>\n",
       "      <td>768.000000</td>\n",
       "      <td>768.000000</td>\n",
       "      <td>768.000000</td>\n",
       "      <td>768.000000</td>\n",
       "      <td>768.000000</td>\n",
       "      <td>768.000000</td>\n",
       "      <td>768.000000</td>\n",
       "      <td>768.000000</td>\n",
       "    </tr>\n",
       "    <tr>\n",
       "      <th>mean</th>\n",
       "      <td>3.845052</td>\n",
       "      <td>120.894531</td>\n",
       "      <td>69.105469</td>\n",
       "      <td>20.536458</td>\n",
       "      <td>79.799479</td>\n",
       "      <td>31.992578</td>\n",
       "      <td>0.471876</td>\n",
       "      <td>33.240885</td>\n",
       "      <td>0.348958</td>\n",
       "    </tr>\n",
       "    <tr>\n",
       "      <th>std</th>\n",
       "      <td>3.369578</td>\n",
       "      <td>31.972618</td>\n",
       "      <td>19.355807</td>\n",
       "      <td>15.952218</td>\n",
       "      <td>115.244002</td>\n",
       "      <td>7.884160</td>\n",
       "      <td>0.331329</td>\n",
       "      <td>11.760232</td>\n",
       "      <td>0.476951</td>\n",
       "    </tr>\n",
       "    <tr>\n",
       "      <th>min</th>\n",
       "      <td>0.000000</td>\n",
       "      <td>0.000000</td>\n",
       "      <td>0.000000</td>\n",
       "      <td>0.000000</td>\n",
       "      <td>0.000000</td>\n",
       "      <td>0.000000</td>\n",
       "      <td>0.078000</td>\n",
       "      <td>21.000000</td>\n",
       "      <td>0.000000</td>\n",
       "    </tr>\n",
       "    <tr>\n",
       "      <th>25%</th>\n",
       "      <td>1.000000</td>\n",
       "      <td>99.000000</td>\n",
       "      <td>62.000000</td>\n",
       "      <td>0.000000</td>\n",
       "      <td>0.000000</td>\n",
       "      <td>27.300000</td>\n",
       "      <td>0.243750</td>\n",
       "      <td>24.000000</td>\n",
       "      <td>0.000000</td>\n",
       "    </tr>\n",
       "    <tr>\n",
       "      <th>50%</th>\n",
       "      <td>3.000000</td>\n",
       "      <td>117.000000</td>\n",
       "      <td>72.000000</td>\n",
       "      <td>23.000000</td>\n",
       "      <td>30.500000</td>\n",
       "      <td>32.000000</td>\n",
       "      <td>0.372500</td>\n",
       "      <td>29.000000</td>\n",
       "      <td>0.000000</td>\n",
       "    </tr>\n",
       "    <tr>\n",
       "      <th>75%</th>\n",
       "      <td>6.000000</td>\n",
       "      <td>140.250000</td>\n",
       "      <td>80.000000</td>\n",
       "      <td>32.000000</td>\n",
       "      <td>127.250000</td>\n",
       "      <td>36.600000</td>\n",
       "      <td>0.626250</td>\n",
       "      <td>41.000000</td>\n",
       "      <td>1.000000</td>\n",
       "    </tr>\n",
       "    <tr>\n",
       "      <th>max</th>\n",
       "      <td>17.000000</td>\n",
       "      <td>199.000000</td>\n",
       "      <td>122.000000</td>\n",
       "      <td>99.000000</td>\n",
       "      <td>846.000000</td>\n",
       "      <td>67.100000</td>\n",
       "      <td>2.420000</td>\n",
       "      <td>81.000000</td>\n",
       "      <td>1.000000</td>\n",
       "    </tr>\n",
       "  </tbody>\n",
       "</table>\n",
       "</div>"
      ],
      "text/plain": [
       "       Pregnancies     Glucose  BloodPressure  SkinThickness     Insulin  \\\n",
       "count   768.000000  768.000000     768.000000     768.000000  768.000000   \n",
       "mean      3.845052  120.894531      69.105469      20.536458   79.799479   \n",
       "std       3.369578   31.972618      19.355807      15.952218  115.244002   \n",
       "min       0.000000    0.000000       0.000000       0.000000    0.000000   \n",
       "25%       1.000000   99.000000      62.000000       0.000000    0.000000   \n",
       "50%       3.000000  117.000000      72.000000      23.000000   30.500000   \n",
       "75%       6.000000  140.250000      80.000000      32.000000  127.250000   \n",
       "max      17.000000  199.000000     122.000000      99.000000  846.000000   \n",
       "\n",
       "              BMI  DiabetesPedigreeFunction         Age     Outcome  \n",
       "count  768.000000                768.000000  768.000000  768.000000  \n",
       "mean    31.992578                  0.471876   33.240885    0.348958  \n",
       "std      7.884160                  0.331329   11.760232    0.476951  \n",
       "min      0.000000                  0.078000   21.000000    0.000000  \n",
       "25%     27.300000                  0.243750   24.000000    0.000000  \n",
       "50%     32.000000                  0.372500   29.000000    0.000000  \n",
       "75%     36.600000                  0.626250   41.000000    1.000000  \n",
       "max     67.100000                  2.420000   81.000000    1.000000  "
      ]
     },
     "execution_count": 22,
     "metadata": {},
     "output_type": "execute_result"
    }
   ],
   "source": [
    "df = pd.read_csv('C:/PROYFINAL/diabetes_titulos.csv')\n",
    "df.describe()"
   ]
  },
  {
   "cell_type": "code",
   "execution_count": 23,
   "id": "60571a32",
   "metadata": {},
   "outputs": [
    {
     "data": {
      "text/plain": [
       "Pregnancies                   int64\n",
       "Glucose                       int64\n",
       "BloodPressure                 int64\n",
       "SkinThickness                 int64\n",
       "Insulin                       int64\n",
       "BMI                         float64\n",
       "DiabetesPedigreeFunction    float64\n",
       "Age                           int64\n",
       "Outcome                       int64\n",
       "dtype: object"
      ]
     },
     "execution_count": 23,
     "metadata": {},
     "output_type": "execute_result"
    }
   ],
   "source": [
    "df.dtypes"
   ]
  },
  {
   "cell_type": "markdown",
   "id": "588f6e93",
   "metadata": {},
   "source": [
    "## Analysis\n",
    "\n",
    "Based on the description above, Plasma glucose levels, blood pressure, skin thickness, insulin and BMI all have min values at 0, those values should not be valid, especially blood pressure, since the diastolic blood pressure most likely cannot be 0 for a living person.  \n",
    "\n",
    "### Blood Pressure:\n",
    "\n",
    "Any diastolic blood pressure under 60 is considered hypotension which needs to be treated immediately as it indicates not enough blood is reaching the person's organs, the person is in \"shock\".\n",
    "\n",
    "### Glucose:\n",
    "\n",
    "The normal range for glucose levels is between 3.9 to 7.2 for non-diabetic patients even after fasting. Given this, the 0s here are not valid either.\n",
    "\n",
    "### Skin Thickness:\n",
    "\n",
    "For normal healthy adults the skin fold thickness is not less than 10mm even for girls.\n",
    "\n",
    "### BMI:\n",
    "\n",
    "BMI among adults range from 18.5 to 30.0 or higher.  Assuming none of these women are extremely short or extremely underweight the BMI should not be 0 or close to 0.5.\n",
    "\n",
    "### Insulin:\n",
    "\n",
    "In some rare cases a person can have zero insulin but they almost definitely have diabetes, which doesn't seem to be the case as per the data since 236 cases have insulin value 0 but are classified to not having diabetes.\n",
    "\n",
    "* Let’s also visualize these features to see how the Outcome is related to each of them."
   ]
  },
  {
   "cell_type": "code",
   "execution_count": 24,
   "id": "0af59d1d",
   "metadata": {},
   "outputs": [
    {
     "name": "stderr",
     "output_type": "stream",
     "text": [
      "C:\\Users\\vmolina\\Anaconda3\\envs\\py38\\lib\\site-packages\\seaborn\\distributions.py:2557: FutureWarning: `distplot` is a deprecated function and will be removed in a future version. Please adapt your code to use either `displot` (a figure-level function with similar flexibility) or `histplot` (an axes-level function for histograms).\n",
      "  warnings.warn(msg, FutureWarning)\n"
     ]
    },
    {
     "data": {
      "image/png": "[encoded data removed]",
      "text/plain": [
       "<Figure size 1008x216 with 1 Axes>"
      ]
     },
     "metadata": {
      "needs_background": "light"
     },
     "output_type": "display_data"
    }
   ],
   "source": [
    "plt.figure(figsize=(14,3))\n",
    "bp_pivot = df.groupby('BloodPressure').Outcome.count().reset_index()\n",
    "sns.distplot(df[df.Outcome == 0]['BloodPressure'], color='turquoise', kde=False, label='0 Class')\n",
    "sns.distplot(df[df.Outcome == 1]['BloodPressure'], color='coral', kde=False, label='1 Class')\n",
    "plt.legend()\n",
    "plt.title('count # of people with blood pressure values')\n",
    "plt.show()"
   ]
  },
  {
   "cell_type": "code",
   "execution_count": 25,
   "id": "a5f4c84a",
   "metadata": {},
   "outputs": [
    {
     "data": {
      "image/png": "[encoded data removed]",
      "text/plain": [
       "<Figure size 1008x216 with 1 Axes>"
      ]
     },
     "metadata": {
      "needs_background": "light"
     },
     "output_type": "display_data"
    }
   ],
   "source": [
    "plt.figure(figsize=(14,3))\n",
    "glucose_pivot = df.groupby('Glucose').Outcome.count().reset_index()\n",
    "sns.distplot(df[df.Outcome == 0]['Glucose'], color='turquoise', kde=False, label='0 Class')\n",
    "sns.distplot(df[df.Outcome == 1]['Glucose'], color='coral', kde=False, label='1 class')\n",
    "plt.legend()\n",
    "plt.title('count # of people with Glucose values')\n",
    "plt.show()"
   ]
  },
  {
   "cell_type": "code",
   "execution_count": 26,
   "id": "f0132e38",
   "metadata": {},
   "outputs": [
    {
     "data": {
      "image/png": "[encoded data removed]",
      "text/plain": [
       "<Figure size 1008x216 with 1 Axes>"
      ]
     },
     "metadata": {
      "needs_background": "light"
     },
     "output_type": "display_data"
    }
   ],
   "source": [
    "plt.figure(figsize=(14,3))\n",
    "BMI_pivot = df.groupby('BMI').Outcome.count().reset_index()\n",
    "sns.distplot(df[df.Outcome == 0]['BMI'], color='turquoise', kde=False, label='Class 0')\n",
    "sns.distplot(df[df.Outcome == 1]['BMI'], color='coral', kde=False, label='Class 1')\n",
    "plt.legend()\n",
    "plt.title('count # of people with BMI values')\n",
    "plt.show()"
   ]
  },
  {
   "cell_type": "code",
   "execution_count": 27,
   "id": "53612779",
   "metadata": {},
   "outputs": [
    {
     "data": {
      "image/png": "[encoded data removed]",
      "text/plain": [
       "<Figure size 1008x216 with 1 Axes>"
      ]
     },
     "metadata": {
      "needs_background": "light"
     },
     "output_type": "display_data"
    }
   ],
   "source": [
    "plt.figure(figsize=(14,3))\n",
    "Insulin_pivot = df.groupby('Insulin').Outcome.count().reset_index()\n",
    "sns.distplot(df[df.Outcome == 0]['Insulin'], color='turquoise', kde=False, label='Class 0')\n",
    "sns.distplot(df[df.Outcome == 1]['Insulin'], color='coral', kde=False, label='Class 1')\n",
    "plt.legend()\n",
    "plt.title('count # of people with Insulin values')\n",
    "plt.show()"
   ]
  },
  {
   "cell_type": "code",
   "execution_count": 28,
   "id": "0015dbf8",
   "metadata": {},
   "outputs": [
    {
     "data": {
      "image/png": "[encoded data removed]",
      "text/plain": [
       "<Figure size 1008x216 with 1 Axes>"
      ]
     },
     "metadata": {
      "needs_background": "light"
     },
     "output_type": "display_data"
    }
   ],
   "source": [
    "plt.figure(figsize=(14,3))\n",
    "SkinThickness_pivot = df.groupby('SkinThickness').Outcome.count().reset_index()\n",
    "sns.distplot(df[df.Outcome == 0]['SkinThickness'], color='turquoise', kde=False, label='Class 0')\n",
    "sns.distplot(df[df.Outcome == 1]['SkinThickness'], color='coral', kde=False, label='Class 1')\n",
    "plt.legend()\n",
    "plt.title('count # of people with Skin thickness values')\n",
    "plt.show()"
   ]
  },
  {
   "cell_type": "markdown",
   "id": "bee41d5b",
   "metadata": {},
   "source": [
    "* For the time being we are not removing the outlier in the data specifically BP, insulin and glucose because they \n",
    "are reletively few of them in the data. We see that these are the 3 features which seem to be effecting the classification \n",
    "the most, given this we will use them for the initial model, without any regularization.  We will also normalize\n",
    "all the values since they are numeric and vary in their min and max values. Finally we are going to split the data into \n",
    "an 80-20 split for train and test sets and perform 5-fold cross validation of the training data to pic the best classifier \n",
    "for the job which will then be used for getting test predictions. I am using 5 classifiers that I know the theory behind."
   ]
  },
  {
   "cell_type": "code",
   "execution_count": 29,
   "id": "70bca9a6",
   "metadata": {},
   "outputs": [],
   "source": [
    "from sklearn import linear_model as lm\n",
    "from sklearn.svm import SVC\n",
    "from sklearn.tree import DecisionTreeClassifier as dtc\n",
    "from sklearn.neighbors import KNeighborsClassifier as knnc\n",
    "from sklearn.naive_bayes import GaussianNB as gnb\n",
    "from sklearn.model_selection import cross_val_score\n",
    "from sklearn.model_selection import train_test_split \n",
    "from sklearn.metrics import accuracy_score, confusion_matrix"
   ]
  },
  {
   "cell_type": "code",
   "execution_count": 33,
   "id": "57543f1e",
   "metadata": {},
   "outputs": [],
   "source": [
    "df_mod = df[(df.BloodPressure != 0) & (df.BMI != 0) & (df.Glucose != 0)]\n",
    "train, test = train_test_split(df_mod, test_size=0.2)"
   ]
  },
  {
   "cell_type": "code",
   "execution_count": 34,
   "id": "6f48435a",
   "metadata": {},
   "outputs": [],
   "source": [
    "features = ['Pregnancies', 'Glucose', 'BloodPressure', 'SkinThickness'\\\n",
    "            , 'BMI', 'Age', 'Insulin', 'DiabetesPedigreeFunction']\n",
    "target = 'Outcome'\n",
    "classifiers = [\n",
    "    knnc(),\n",
    "    dtc(),\n",
    "    SVC(),\n",
    "    SVC(kernel='linear'),\n",
    "    gnb()\n",
    "]\n",
    "classifier_names = [\n",
    "    'K nearest neighbors',\n",
    "    'Decision Tree Classifier',\n",
    "    'SVM classifier with RBF kernel',\n",
    "    'SVM classifier with linear kernel',\n",
    "    'Gaussian Naive Bayes'\n",
    "]"
   ]
  },
  {
   "cell_type": "code",
   "execution_count": 35,
   "id": "f2610737",
   "metadata": {},
   "outputs": [
    {
     "name": "stdout",
     "output_type": "stream",
     "text": [
      "K nearest neighbors  mean accuracy:  71.513 % std:  0.281 %\n",
      "Decision Tree Classifier  mean accuracy:  70.304 % std:  0.178 %\n",
      "SVM classifier with RBF kernel  mean accuracy:  75.135 % std:  0.052 %\n",
      "SVM classifier with linear kernel  mean accuracy:  76.169 % std:  0.042 %\n",
      "Gaussian Naive Bayes  mean accuracy:  75.471 % std:  0.066 %\n"
     ]
    }
   ],
   "source": [
    "for clf, clf_name in zip(classifiers, classifier_names):\n",
    "    cv_scores = cross_val_score(clf, train[features], train[target], cv=5)\n",
    "    \n",
    "    print(clf_name, ' mean accuracy: ', round(cv_scores.mean()*100, 3), '% std: ', round(cv_scores.var()*100, 3),'%')"
   ]
  },
  {
   "cell_type": "code",
   "execution_count": 37,
   "id": "20af41dd",
   "metadata": {},
   "outputs": [],
   "source": [
    "final_model_smv_lin = SVC(kernel='linear').fit(train[features], train[target])\n",
    "final_model_gnb = gnb().fit(train[features], train[target])"
   ]
  },
  {
   "cell_type": "code",
   "execution_count": 38,
   "id": "2db66580",
   "metadata": {},
   "outputs": [
    {
     "name": "stdout",
     "output_type": "stream",
     "text": [
      "test accuracy for SVM classifier with a linear kernel: 77.24 %\n"
     ]
    },
    {
     "data": {
      "image/png": "[encoded data removed]",
      "text/plain": [
       "<Figure size 432x288 with 2 Axes>"
      ]
     },
     "metadata": {
      "needs_background": "light"
     },
     "output_type": "display_data"
    },
    {
     "name": "stdout",
     "output_type": "stream",
     "text": [
      "test accuracy for Gaussian naive bayes classifier: 73.1 %\n"
     ]
    },
    {
     "data": {
      "image/png": "[encoded data removed]",
      "text/plain": [
       "<Figure size 432x288 with 2 Axes>"
      ]
     },
     "metadata": {
      "needs_background": "light"
     },
     "output_type": "display_data"
    }
   ],
   "source": [
    "y_hat_svm = final_model_smv_lin.predict(test[features])\n",
    "y_hat_gnb = final_model_gnb.predict(test[features])\n",
    "\n",
    "print('test accuracy for SVM classifier with a linear kernel:'\\\n",
    "      , round(accuracy_score(test[target], y_hat_svm)*100, 2), '%')\n",
    "plt.title('Confusion matrix for SVM classifier with a linear kernel')\n",
    "sns.heatmap(confusion_matrix(test[target], y_hat_svm), annot=True, cmap=\"YlGn\")\n",
    "plt.xlabel('Predicted classes')\n",
    "plt.ylabel('True Classes')\n",
    "plt.show()\n",
    "\n",
    "print('test accuracy for Gaussian naive bayes classifier:', \\\n",
    "      round(accuracy_score(test[target], y_hat_gnb)*100, 2),'%')\n",
    "plt.title('confusion matrix for Gaussian naive bayes classifier')\n",
    "sns.heatmap(confusion_matrix(test[target], y_hat_gnb), annot=True, cmap=\"YlGn\")\n",
    "plt.show()\n"
   ]
  },
  {
   "cell_type": "code",
   "execution_count": 39,
   "id": "e6adad7f",
   "metadata": {},
   "outputs": [],
   "source": [
    "import pickle\n",
    "with open ('diabetes_pickle.pkl','wb') as f:\n",
    "    pickle.dump(final_model_smv_lin,f)"
   ]
  },
  {
   "cell_type": "markdown",
   "id": "b5e176b5",
   "metadata": {},
   "source": [
    "## Conclusions\n",
    "\n",
    "* As shown above, the SVM linear model does seem to do much better from an accuracy perspective for the data. It also has fewer false positives than the Naive Bayes model although higher true negative predictions.  We could also choose based on if we want the model to err on the side of caution when predicting someone will have diabetes so that they take preventive care or be more cautious when predicting diabetes diagnosis. This will depend on what application this classifier."
   ]
  },
  {
   "cell_type": "code",
   "execution_count": null,
   "id": "32a76186",
   "metadata": {},
   "outputs": [],
   "source": []
  }
 ],
 "metadata": {
  "kernelspec": {
   "display_name": "Python 3",
   "language": "python",
   "name": "python3"
  },
  "language_info": {
   "codemirror_mode": {
    "name": "ipython",
    "version": 3
   },
   "file_extension": ".py",
   "mimetype": "text/x-python",
   "name": "python",
   "nbconvert_exporter": "python",
   "pygments_lexer": "ipython3",
   "version": "3.8.10"
  }
 },
 "nbformat": 4,
 "nbformat_minor": 5
}
